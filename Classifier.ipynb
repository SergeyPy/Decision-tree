{
 "cells": [
  {
   "cell_type": "code",
   "execution_count": 1,
   "metadata": {
    "ExecuteTime": {
     "end_time": "2019-11-08T16:48:59.982594Z",
     "start_time": "2019-11-08T16:48:58.337039Z"
    }
   },
   "outputs": [],
   "source": [
    "import numpy as np\n",
    "import pandas as pd\n",
    "from sklearn.metrics import roc_auc_score\n",
    "from Napoleon import NapoleonClassifier"
   ]
  },
  {
   "cell_type": "code",
   "execution_count": 2,
   "metadata": {
    "ExecuteTime": {
     "end_time": "2019-11-08T16:49:00.947967Z",
     "start_time": "2019-11-08T16:49:00.480741Z"
    }
   },
   "outputs": [],
   "source": [
    "df = pd.read_csv('https://stepik.org/media/attachments/course/57984/titanic.csv', index_col=0)"
   ]
  },
  {
   "cell_type": "code",
   "execution_count": 3,
   "metadata": {
    "ExecuteTime": {
     "end_time": "2019-11-08T16:49:01.000852Z",
     "start_time": "2019-11-08T16:49:00.970426Z"
    }
   },
   "outputs": [
    {
     "data": {
      "text/plain": [
       "array([ -1.    ,   7.9104,  14.4542,  31.    , 512.3292])"
      ]
     },
     "execution_count": 3,
     "metadata": {},
     "output_type": "execute_result"
    }
   ],
   "source": [
    "bins = [-1]\n",
    "bins = np.append(bins, df.describe()['Fare'][4:-1].values)\n",
    "bins = np.append(bins, df['Fare'].max())\n",
    "bins"
   ]
  },
  {
   "cell_type": "code",
   "execution_count": 4,
   "metadata": {
    "ExecuteTime": {
     "end_time": "2019-11-08T16:49:01.178694Z",
     "start_time": "2019-11-08T16:49:01.166581Z"
    }
   },
   "outputs": [],
   "source": [
    "df['Category_fare'] = pd.cut(df['Fare'], bins=bins, labels=['Low', 'Mid', 'High_Mid', 'High'])"
   ]
  },
  {
   "cell_type": "code",
   "execution_count": 5,
   "metadata": {
    "ExecuteTime": {
     "end_time": "2019-11-08T16:49:01.496743Z",
     "start_time": "2019-11-08T16:49:01.491540Z"
    }
   },
   "outputs": [],
   "source": [
    "df.Embarked.fillna(df.Embarked.mode()[0], inplace = True)"
   ]
  },
  {
   "cell_type": "code",
   "execution_count": 6,
   "metadata": {
    "ExecuteTime": {
     "end_time": "2019-11-08T16:49:01.799520Z",
     "start_time": "2019-11-08T16:49:01.793636Z"
    }
   },
   "outputs": [],
   "source": [
    "df.Cabin = df.Cabin.fillna('NA')"
   ]
  },
  {
   "cell_type": "code",
   "execution_count": 7,
   "metadata": {
    "ExecuteTime": {
     "end_time": "2019-11-08T16:49:02.110133Z",
     "start_time": "2019-11-08T16:49:02.076320Z"
    }
   },
   "outputs": [],
   "source": [
    "df['Salutation'] = df.Name.apply(lambda x: x.split(',')[1].split('.')[0].strip())\n",
    "grp = df.groupby(['Sex', 'Pclass', 'Salutation'])\n",
    "df.Age = grp.Age.apply(lambda x: x.fillna(x.median()))"
   ]
  },
  {
   "cell_type": "code",
   "execution_count": 8,
   "metadata": {
    "ExecuteTime": {
     "end_time": "2019-11-08T16:49:02.358360Z",
     "start_time": "2019-11-08T16:49:02.351945Z"
    }
   },
   "outputs": [],
   "source": [
    "Y = df['Survived']\n",
    "X = df[df.columns[1:]]"
   ]
  },
  {
   "cell_type": "code",
   "execution_count": null,
   "metadata": {
    "ExecuteTime": {
     "end_time": "2019-11-05T07:40:31.477882Z",
     "start_time": "2019-11-05T07:40:31.471542Z"
    }
   },
   "outputs": [],
   "source": []
  },
  {
   "cell_type": "code",
   "execution_count": 9,
   "metadata": {
    "ExecuteTime": {
     "end_time": "2019-11-08T16:49:02.960170Z",
     "start_time": "2019-11-08T16:49:02.954748Z"
    }
   },
   "outputs": [],
   "source": [
    "X['Deck'] = X.Cabin.str[0]"
   ]
  },
  {
   "cell_type": "code",
   "execution_count": 10,
   "metadata": {
    "ExecuteTime": {
     "end_time": "2019-11-08T16:49:03.236296Z",
     "start_time": "2019-11-08T16:49:03.230716Z"
    }
   },
   "outputs": [],
   "source": [
    "from sklearn.preprocessing import LabelEncoder\n",
    "\n",
    "le = LabelEncoder()\n",
    "X['Sex'] = le.fit_transform(X['Sex'])"
   ]
  },
  {
   "cell_type": "code",
   "execution_count": 11,
   "metadata": {
    "ExecuteTime": {
     "end_time": "2019-11-08T16:49:03.599884Z",
     "start_time": "2019-11-08T16:49:03.593699Z"
    }
   },
   "outputs": [],
   "source": [
    "X['Cabin'] = LabelEncoder().fit_transform(X['Cabin'])\n",
    "X['Embarked'] = LabelEncoder().fit_transform(X['Embarked'])"
   ]
  },
  {
   "cell_type": "code",
   "execution_count": 12,
   "metadata": {
    "ExecuteTime": {
     "end_time": "2019-11-08T16:49:03.965174Z",
     "start_time": "2019-11-08T16:49:03.933849Z"
    }
   },
   "outputs": [
    {
     "data": {
      "text/html": [
       "<div>\n",
       "<style scoped>\n",
       "    .dataframe tbody tr th:only-of-type {\n",
       "        vertical-align: middle;\n",
       "    }\n",
       "\n",
       "    .dataframe tbody tr th {\n",
       "        vertical-align: top;\n",
       "    }\n",
       "\n",
       "    .dataframe thead th {\n",
       "        text-align: right;\n",
       "    }\n",
       "</style>\n",
       "<table border=\"1\" class=\"dataframe\">\n",
       "  <thead>\n",
       "    <tr style=\"text-align: right;\">\n",
       "      <th></th>\n",
       "      <th>Pclass</th>\n",
       "      <th>Name</th>\n",
       "      <th>Sex</th>\n",
       "      <th>Age</th>\n",
       "      <th>SibSp</th>\n",
       "      <th>Parch</th>\n",
       "      <th>Ticket</th>\n",
       "      <th>Fare</th>\n",
       "      <th>Cabin</th>\n",
       "      <th>Embarked</th>\n",
       "      <th>Category_fare</th>\n",
       "      <th>Salutation</th>\n",
       "      <th>Deck</th>\n",
       "      <th>Fare_Low</th>\n",
       "      <th>Fare_Mid</th>\n",
       "      <th>Fare_High_Mid</th>\n",
       "      <th>Fare_High</th>\n",
       "    </tr>\n",
       "    <tr>\n",
       "      <th>PassengerId</th>\n",
       "      <th></th>\n",
       "      <th></th>\n",
       "      <th></th>\n",
       "      <th></th>\n",
       "      <th></th>\n",
       "      <th></th>\n",
       "      <th></th>\n",
       "      <th></th>\n",
       "      <th></th>\n",
       "      <th></th>\n",
       "      <th></th>\n",
       "      <th></th>\n",
       "      <th></th>\n",
       "      <th></th>\n",
       "      <th></th>\n",
       "      <th></th>\n",
       "      <th></th>\n",
       "    </tr>\n",
       "  </thead>\n",
       "  <tbody>\n",
       "    <tr>\n",
       "      <td>1</td>\n",
       "      <td>3</td>\n",
       "      <td>Braund, Mr. Owen Harris</td>\n",
       "      <td>1</td>\n",
       "      <td>22.0</td>\n",
       "      <td>1</td>\n",
       "      <td>0</td>\n",
       "      <td>A/5 21171</td>\n",
       "      <td>7.2500</td>\n",
       "      <td>146</td>\n",
       "      <td>2</td>\n",
       "      <td>Low</td>\n",
       "      <td>Mr</td>\n",
       "      <td>N</td>\n",
       "      <td>1</td>\n",
       "      <td>0</td>\n",
       "      <td>0</td>\n",
       "      <td>0</td>\n",
       "    </tr>\n",
       "    <tr>\n",
       "      <td>2</td>\n",
       "      <td>1</td>\n",
       "      <td>Cumings, Mrs. John Bradley (Florence Briggs Th...</td>\n",
       "      <td>0</td>\n",
       "      <td>38.0</td>\n",
       "      <td>1</td>\n",
       "      <td>0</td>\n",
       "      <td>PC 17599</td>\n",
       "      <td>71.2833</td>\n",
       "      <td>81</td>\n",
       "      <td>0</td>\n",
       "      <td>High</td>\n",
       "      <td>Mrs</td>\n",
       "      <td>C</td>\n",
       "      <td>0</td>\n",
       "      <td>0</td>\n",
       "      <td>0</td>\n",
       "      <td>1</td>\n",
       "    </tr>\n",
       "    <tr>\n",
       "      <td>3</td>\n",
       "      <td>3</td>\n",
       "      <td>Heikkinen, Miss. Laina</td>\n",
       "      <td>0</td>\n",
       "      <td>26.0</td>\n",
       "      <td>0</td>\n",
       "      <td>0</td>\n",
       "      <td>STON/O2. 3101282</td>\n",
       "      <td>7.9250</td>\n",
       "      <td>146</td>\n",
       "      <td>2</td>\n",
       "      <td>Mid</td>\n",
       "      <td>Miss</td>\n",
       "      <td>N</td>\n",
       "      <td>0</td>\n",
       "      <td>1</td>\n",
       "      <td>0</td>\n",
       "      <td>0</td>\n",
       "    </tr>\n",
       "    <tr>\n",
       "      <td>4</td>\n",
       "      <td>1</td>\n",
       "      <td>Futrelle, Mrs. Jacques Heath (Lily May Peel)</td>\n",
       "      <td>0</td>\n",
       "      <td>35.0</td>\n",
       "      <td>1</td>\n",
       "      <td>0</td>\n",
       "      <td>113803</td>\n",
       "      <td>53.1000</td>\n",
       "      <td>55</td>\n",
       "      <td>2</td>\n",
       "      <td>High</td>\n",
       "      <td>Mrs</td>\n",
       "      <td>C</td>\n",
       "      <td>0</td>\n",
       "      <td>0</td>\n",
       "      <td>0</td>\n",
       "      <td>1</td>\n",
       "    </tr>\n",
       "    <tr>\n",
       "      <td>5</td>\n",
       "      <td>3</td>\n",
       "      <td>Allen, Mr. William Henry</td>\n",
       "      <td>1</td>\n",
       "      <td>35.0</td>\n",
       "      <td>0</td>\n",
       "      <td>0</td>\n",
       "      <td>373450</td>\n",
       "      <td>8.0500</td>\n",
       "      <td>146</td>\n",
       "      <td>2</td>\n",
       "      <td>Mid</td>\n",
       "      <td>Mr</td>\n",
       "      <td>N</td>\n",
       "      <td>0</td>\n",
       "      <td>1</td>\n",
       "      <td>0</td>\n",
       "      <td>0</td>\n",
       "    </tr>\n",
       "  </tbody>\n",
       "</table>\n",
       "</div>"
      ],
      "text/plain": [
       "             Pclass                                               Name  Sex  \\\n",
       "PassengerId                                                                   \n",
       "1                 3                            Braund, Mr. Owen Harris    1   \n",
       "2                 1  Cumings, Mrs. John Bradley (Florence Briggs Th...    0   \n",
       "3                 3                             Heikkinen, Miss. Laina    0   \n",
       "4                 1       Futrelle, Mrs. Jacques Heath (Lily May Peel)    0   \n",
       "5                 3                           Allen, Mr. William Henry    1   \n",
       "\n",
       "              Age  SibSp  Parch            Ticket     Fare  Cabin  Embarked  \\\n",
       "PassengerId                                                                   \n",
       "1            22.0      1      0         A/5 21171   7.2500    146         2   \n",
       "2            38.0      1      0          PC 17599  71.2833     81         0   \n",
       "3            26.0      0      0  STON/O2. 3101282   7.9250    146         2   \n",
       "4            35.0      1      0            113803  53.1000     55         2   \n",
       "5            35.0      0      0            373450   8.0500    146         2   \n",
       "\n",
       "            Category_fare Salutation Deck  Fare_Low  Fare_Mid  Fare_High_Mid  \\\n",
       "PassengerId                                                                    \n",
       "1                     Low         Mr    N         1         0              0   \n",
       "2                    High        Mrs    C         0         0              0   \n",
       "3                     Mid       Miss    N         0         1              0   \n",
       "4                    High        Mrs    C         0         0              0   \n",
       "5                     Mid         Mr    N         0         1              0   \n",
       "\n",
       "             Fare_High  \n",
       "PassengerId             \n",
       "1                    0  \n",
       "2                    1  \n",
       "3                    0  \n",
       "4                    1  \n",
       "5                    0  "
      ]
     },
     "execution_count": 12,
     "metadata": {},
     "output_type": "execute_result"
    }
   ],
   "source": [
    "pd.concat([X, pd.get_dummies(X.Category_fare, prefix=\"Fare\")], axis=1).head()"
   ]
  },
  {
   "cell_type": "code",
   "execution_count": 13,
   "metadata": {
    "ExecuteTime": {
     "end_time": "2019-11-08T16:49:04.298067Z",
     "start_time": "2019-11-08T16:49:04.291348Z"
    }
   },
   "outputs": [],
   "source": [
    "cols = ['Pclass', 'Sex', 'Age', 'SibSp', 'Parch', 'Fare', 'Cabin', 'Embarked']\n",
    "\n"
   ]
  },
  {
   "cell_type": "code",
   "execution_count": 14,
   "metadata": {
    "ExecuteTime": {
     "end_time": "2019-11-08T16:49:04.787388Z",
     "start_time": "2019-11-08T16:49:04.750231Z"
    }
   },
   "outputs": [
    {
     "name": "stdout",
     "output_type": "stream",
     "text": [
      "(623, 8) (268, 8)\n"
     ]
    }
   ],
   "source": [
    "# Разделяем выборку на обучающую и тестовую\n",
    "\n",
    "from sklearn.model_selection import train_test_split\n",
    "\n",
    "X_train, X_test, Y_train, Y_test = train_test_split(X[cols], Y, test_size=0.3, random_state=255)\n",
    "\n",
    "print(X_train.shape, X_test.shape)"
   ]
  },
  {
   "cell_type": "code",
   "execution_count": 15,
   "metadata": {
    "ExecuteTime": {
     "end_time": "2019-11-08T16:49:05.189687Z",
     "start_time": "2019-11-08T16:49:05.176166Z"
    },
    "scrolled": true
   },
   "outputs": [
    {
     "data": {
      "text/plain": [
       "array([[  3.    ,   1.    ,  22.    , ...,   7.25  , 146.    ,   2.    ],\n",
       "       [  1.    ,   0.    ,  38.    , ...,  71.2833,  81.    ,   0.    ],\n",
       "       [  3.    ,   0.    ,  26.    , ...,   7.925 , 146.    ,   2.    ],\n",
       "       ...,\n",
       "       [  3.    ,   0.    ,  18.    , ...,  23.45  , 146.    ,   2.    ],\n",
       "       [  1.    ,   1.    ,  26.    , ...,  30.    ,  60.    ,   0.    ],\n",
       "       [  3.    ,   1.    ,  32.    , ...,   7.75  , 146.    ,   1.    ]])"
      ]
     },
     "execution_count": 15,
     "metadata": {},
     "output_type": "execute_result"
    }
   ],
   "source": [
    "X[cols].values"
   ]
  },
  {
   "cell_type": "markdown",
   "metadata": {
    "ExecuteTime": {
     "end_time": "2019-11-05T05:02:30.335783Z",
     "start_time": "2019-11-05T05:02:30.322799Z"
    }
   },
   "source": [
    "##  Model"
   ]
  },
  {
   "cell_type": "code",
   "execution_count": 16,
   "metadata": {
    "ExecuteTime": {
     "end_time": "2019-11-08T16:49:30.429980Z",
     "start_time": "2019-11-08T16:49:05.987541Z"
    },
    "scrolled": true
   },
   "outputs": [
    {
     "name": "stdout",
     "output_type": "stream",
     "text": [
      "max_depth: 10 min_samples: 2 Error train: 0.89 Error test: 0.76\n",
      "max_depth: 10 min_samples: 4 Error train: 0.87 Error test: 0.76\n",
      "max_depth: 20 min_samples: 2 Error train: 0.89 Error test: 0.75\n",
      "max_depth: 20 min_samples: 4 Error train: 0.87 Error test: 0.75\n"
     ]
    }
   ],
   "source": [
    "import itertools\n",
    "for i,b in enumerate(itertools.product([10,20],[2,4])):\n",
    "    my_other_object =NapoleonClassifier(max_depth=b[0],min_samples=b[1],criterion='entropy')\n",
    "    tree = my_other_object.fit(X_train, Y_train)\n",
    "    pr = my_other_object.prediction(X_train)\n",
    "    \n",
    "    err_tr = roc_auc_score(Y_train,pr)\n",
    "    pr_t = my_other_object.prediction(X_test)\n",
    "    err_te = roc_auc_score(Y_test,pr_t)\n",
    "    print('max_depth:',b[0],'min_samples:',b[1], 'Error train:',np.round(err_tr,2),'Error test:',np.round(err_te,2))"
   ]
  }
 ],
 "metadata": {
  "kernelspec": {
   "display_name": "Python 3",
   "language": "python",
   "name": "python3"
  },
  "language_info": {
   "codemirror_mode": {
    "name": "ipython",
    "version": 3
   },
   "file_extension": ".py",
   "mimetype": "text/x-python",
   "name": "python",
   "nbconvert_exporter": "python",
   "pygments_lexer": "ipython3",
   "version": "3.7.4"
  },
  "toc": {
   "base_numbering": 1,
   "nav_menu": {},
   "number_sections": true,
   "sideBar": true,
   "skip_h1_title": true,
   "title_cell": "Table of Contents",
   "title_sidebar": "Contents",
   "toc_cell": false,
   "toc_position": {
    "height": "100px",
    "left": "353px",
    "top": "265px",
    "width": "251px"
   },
   "toc_section_display": true,
   "toc_window_display": true
  },
  "varInspector": {
   "cols": {
    "lenName": 16,
    "lenType": 16,
    "lenVar": 40
   },
   "kernels_config": {
    "python": {
     "delete_cmd_postfix": "",
     "delete_cmd_prefix": "del ",
     "library": "var_list.py",
     "varRefreshCmd": "print(var_dic_list())"
    },
    "r": {
     "delete_cmd_postfix": ") ",
     "delete_cmd_prefix": "rm(",
     "library": "var_list.r",
     "varRefreshCmd": "cat(var_dic_list()) "
    }
   },
   "position": {
    "height": "541px",
    "left": "8px",
    "right": "20px",
    "top": "240px",
    "width": "355px"
   },
   "types_to_exclude": [
    "module",
    "function",
    "builtin_function_or_method",
    "instance",
    "_Feature"
   ],
   "window_display": false
  }
 },
 "nbformat": 4,
 "nbformat_minor": 2
}
